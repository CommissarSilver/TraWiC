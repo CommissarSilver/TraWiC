{
 "cells": [
  {
   "cell_type": "code",
   "execution_count": 2,
   "id": "adabdeca-0d61-41ba-ab0d-9924f11e2182",
   "metadata": {},
   "outputs": [],
   "source": [
    "import os\n",
    "import torch\n",
    "from transformers import (\n",
    "    AutoModelForCausalLM,\n",
    "    AutoTokenizer,\n",
    "    BitsAndBytesConfig,\n",
    "    HfArgumentParser,\n",
    "    TrainingArguments,\n",
    "    pipeline,\n",
    "    logging,\n",
    ")\n",
    "from peft import LoraConfig, PeftModel\n"
   ]
  },
  {
   "cell_type": "code",
   "execution_count": 3,
   "id": "3d8df44e-0d8e-42d0-945f-0061408943bd",
   "metadata": {},
   "outputs": [],
   "source": [
    "base_model_id = \"/home/vamaj/scratch/TraWiC/llms/mistral\"\n",
    "adapter_id = os.path.join(\"/home/vamaj/scratch/TraWiC/llms/mistral_fim\")\n",
    "device_map = {\"\": 0}"
   ]
  },
  {
   "cell_type": "code",
   "execution_count": 4,
   "id": "1fd5c38b-7f05-4ce5-89ca-c9e830c03350",
   "metadata": {},
   "outputs": [
    {
     "name": "stderr",
     "output_type": "stream",
     "text": [
      "Loading checkpoint shards: 100%|██████████| 2/2 [00:40<00:00, 20.25s/it]\n"
     ]
    }
   ],
   "source": [
    "base_model = AutoModelForCausalLM.from_pretrained(\n",
    "    base_model_id,\n",
    "    device_map=device_map,\n",
    "    local_files_only=True,\n",
    ")"
   ]
  },
  {
   "cell_type": "code",
   "execution_count": 5,
   "id": "8f0c7333-3993-4b9e-a28c-4dc01fc0d9f8",
   "metadata": {},
   "outputs": [],
   "source": [
    "adapter_model = PeftModel.from_pretrained(\n",
    "    base_model,\n",
    "    adapter_id,\n",
    ")"
   ]
  },
  {
   "cell_type": "code",
   "execution_count": 6,
   "id": "b4b57517-1df7-4e29-9799-9f17deddcf5b",
   "metadata": {},
   "outputs": [],
   "source": [
    "# Load LLaMA tokenizer\n",
    "tokenizer = AutoTokenizer.from_pretrained(\n",
    "    \"/home/vamaj/scratch/TraWiC/llms/mistral\",\n",
    "    trust_remote_code=True,\n",
    "    local_files_only=True,\n",
    ")\n",
    "tokenizer.pad_token = tokenizer.eos_token\n",
    "tokenizer.padding_side = \"right\"  # Fix weird overflow issue with fp16 training\n",
    "\n",
    "FIM_PREFIX = \"<fim-prefix>\"\n",
    "FIM_MIDDLE = \"<fim-middle>\"\n",
    "FIM_SUFFIX = \"<fim-suffix>\"\n",
    "FIM_PAD = \"<fim-pad>\"\n",
    "EOD = \"<|endoftext|>\"\n",
    "\n",
    "num_added_special_tokens = tokenizer.add_special_tokens(\n",
    "    {\n",
    "        \"additional_special_tokens\": [\n",
    "            FIM_PREFIX,\n",
    "            FIM_MIDDLE,\n",
    "            FIM_SUFFIX,\n",
    "            FIM_PAD,\n",
    "        ],\n",
    "    }\n",
    ")"
   ]
  },
  {
   "cell_type": "code",
   "execution_count": 7,
   "id": "12d1bdef-afdd-4cf4-8a4d-1968e6befec8",
   "metadata": {},
   "outputs": [
    {
     "data": {
      "text/plain": [
       "Embedding(32004, 4096)"
      ]
     },
     "execution_count": 7,
     "metadata": {},
     "output_type": "execute_result"
    }
   ],
   "source": [
    "adapter_model.resize_token_embeddings(len(tokenizer))"
   ]
  },
  {
   "cell_type": "code",
   "execution_count": null,
   "id": "59fbd3f5-f634-4521-bfb3-4b75ee9e6968",
   "metadata": {},
   "outputs": [],
   "source": [
    "input_text = \"<fim-prefix>def<fim-suffix>print(message)<fim-middle>\"\n",
    "encoded_input = tokenizer.encode(input_text, return_tensors=\"pt\")\n",
    "with torch.no_grad():\n",
    "    outs = adapter_model.generate(input_ids=encoded_input.to(\"cuda\"))\n",
    "    if outs.dim() > 1:\n",
    "        outs = outs[0]\n",
    "\n",
    "    print(tokenizer.decode(outs, skip_special_tokens=True))\n"
   ]
  }
 ],
 "metadata": {
  "kernelspec": {
   "display_name": "Python TWMC Kernel",
   "language": "python",
   "name": "twmc_kernel"
  },
  "language_info": {
   "codemirror_mode": {
    "name": "ipython",
    "version": 3
   },
   "file_extension": ".py",
   "mimetype": "text/x-python",
   "name": "python",
   "nbconvert_exporter": "python",
   "pygments_lexer": "ipython3",
   "version": "3.10.13"
  }
 },
 "nbformat": 4,
 "nbformat_minor": 5
}
