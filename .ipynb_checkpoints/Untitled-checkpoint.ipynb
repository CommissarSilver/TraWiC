{
 "cells": [
  {
   "cell_type": "code",
   "execution_count": null,
   "id": "adabdeca-0d61-41ba-ab0d-9924f11e2182",
   "metadata": {},
   "outputs": [],
   "source": [
    "import os\n",
    "import torch\n",
    "from datasets import load_dataset\n",
    "from transformers import (\n",
    "    AutoModelForCausalLM,\n",
    "    AutoTokenizer,\n",
    "    BitsAndBytesConfig,\n",
    "    HfArgumentParser,\n",
    "    TrainingArguments,\n",
    "    pipeline,\n",
    "    logging,\n",
    ")\n",
    "from peft import LoraConfig, PeftModel\n",
    "from trl import SFTTrainer"
   ]
  },
  {
   "cell_type": "code",
   "execution_count": null,
   "id": "3d8df44e-0d8e-42d0-945f-0061408943bd",
   "metadata": {},
   "outputs": [],
   "source": [
    "base_model_id = \"/home/vamaj/scratch/TraWiC/llms/mistral\"\n",
    "adapter_id = os.path.join(\"/home/vamaj/scratch/TraWiC/llms/mistral_fim\")\n",
    "device_map = {\"\": 0}"
   ]
  },
  {
   "cell_type": "code",
   "execution_count": null,
   "id": "1fd5c38b-7f05-4ce5-89ca-c9e830c03350",
   "metadata": {},
   "outputs": [],
   "source": []
  }
 ],
 "metadata": {
  "kernelspec": {
   "display_name": "Python TWMC Kernel",
   "language": "python",
   "name": "twmc_kernel"
  },
  "language_info": {
   "codemirror_mode": {
    "name": "ipython",
    "version": 3
   },
   "file_extension": ".py",
   "mimetype": "text/x-python",
   "name": "python",
   "nbconvert_exporter": "python",
   "pygments_lexer": "ipython3",
   "version": "3.10.13"
  }
 },
 "nbformat": 4,
 "nbformat_minor": 5
}
